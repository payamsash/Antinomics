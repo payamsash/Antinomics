{
 "cells": [
  {
   "cell_type": "code",
   "execution_count": null,
   "id": "e0e1d2ea",
   "metadata": {},
   "outputs": [],
   "source": [
    "import nimare\n",
    "import nibabel as nib"
   ]
  },
  {
   "cell_type": "code",
   "execution_count": null,
   "id": "d67ea8ae",
   "metadata": {},
   "outputs": [],
   "source": [
    "template = nimare.utils.get_template(space=\"mni152_1mm\", mask=\"brain\")\n",
    "nib.save(template, \"MNI152NLin6Asym_1mm_brain.nii.gz\")"
   ]
  },
  {
   "cell_type": "code",
   "execution_count": null,
   "id": "7486793c",
   "metadata": {},
   "outputs": [],
   "source": [
    "template"
   ]
  }
 ],
 "metadata": {
  "kernelspec": {
   "display_name": "venv (3.10.9)",
   "language": "python",
   "name": "python3"
  },
  "language_info": {
   "codemirror_mode": {
    "name": "ipython",
    "version": 3
   },
   "file_extension": ".py",
   "mimetype": "text/x-python",
   "name": "python",
   "nbconvert_exporter": "python",
   "pygments_lexer": "ipython3",
   "version": "3.10.9"
  }
 },
 "nbformat": 4,
 "nbformat_minor": 5
}
