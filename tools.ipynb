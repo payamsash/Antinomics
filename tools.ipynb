{
 "cells": [
  {
   "cell_type": "markdown",
   "id": "df925a82",
   "metadata": {},
   "source": [
    "Download template MNI-HCP which Tian atlas is defined in from templateflow"
   ]
  },
  {
   "cell_type": "code",
   "execution_count": null,
   "id": "e0e1d2ea",
   "metadata": {},
   "outputs": [],
   "source": [
    "\n",
    "from templateflow import api\n",
    "api.get('MNI152NLin6Asym', resolution=1, suffix='T1w')"
   ]
  },
  {
   "cell_type": "markdown",
   "id": "bcfa3d2b",
   "metadata": {},
   "source": [
    "Plot tian atlas in different scales"
   ]
  },
  {
   "cell_type": "code",
   "execution_count": null,
   "id": "56864e3c",
   "metadata": {},
   "outputs": [],
   "source": [
    "%matplotlib qt\n",
    "import matplotlib.pyplot as plt\n",
    "from subcortex_visualization.plotting import plot_subcortical_data\n",
    "\n",
    "for s in [\"S1\", \"S2\"]:\n",
    "    plot_subcortical_data(atlas=f\"Melbourne_{s}\", hemisphere='both', cmap=\"hsv\")\n",
    "    fig = plt.gcf()\n",
    "    ax = plt.gca()\n",
    "    fig.patch.set_facecolor('black')\n",
    "    ax.set_facecolor('black')         \n",
    "    plt.show()"
   ]
  },
  {
   "cell_type": "markdown",
   "id": "929dca14",
   "metadata": {},
   "source": [
    "Visualizing connectome matrix"
   ]
  },
  {
   "cell_type": "code",
   "execution_count": null,
   "id": "b9f72488",
   "metadata": {},
   "outputs": [],
   "source": [
    "%matplotlib qt\n",
    "import matplotlib.pyplot as plt\n",
    "from cmap import Colormap\n",
    "from matplotlib.colors import LinearSegmentedColormap\n",
    "from nilearn.plotting import plot_matrix\n",
    "import pandas as pd\n",
    "import numpy as np"
   ]
  },
  {
   "cell_type": "code",
   "execution_count": null,
   "id": "5a80cc81",
   "metadata": {},
   "outputs": [],
   "source": [
    "df = pd.read_csv(\"/Users/payamsadeghishabestari/temp_folder/dti/asjt/conn/sch_400_conn.csv\", header=None)\n",
    "cm = Colormap('colorbrewer:OrRd_9')\n",
    "combined_cmap = LinearSegmentedColormap.from_list(\"\", cm(np.linspace(0, 1, 500)), N=1000)\n",
    "\n",
    "labels_fname = \"/usr/local/mrtrix3/share/mrtrix3/labelconvert/hcpmmp1_ordered.txt\"\n",
    "labels = np.loadtxt(labels_fname, dtype=str)[:, 1]\n",
    "\n",
    "disp = plot_matrix(df, cmap=combined_cmap, vmax=0.1, vmin=0)\n",
    "ax = plt.gca()\n",
    "fig = plt.gcf()\n",
    "\n",
    "ax.set_facecolor(\"black\")   # Background of the matrix area\n",
    "fig.patch.set_facecolor(\"black\")  # Background of the figure\n",
    "fig.patch.set_alpha(1.0)\n",
    "\n",
    "plt.show()"
   ]
  }
 ],
 "metadata": {
  "kernelspec": {
   "display_name": "venv (3.10.9)",
   "language": "python",
   "name": "python3"
  },
  "language_info": {
   "codemirror_mode": {
    "name": "ipython",
    "version": 3
   },
   "file_extension": ".py",
   "mimetype": "text/x-python",
   "name": "python",
   "nbconvert_exporter": "python",
   "pygments_lexer": "ipython3",
   "version": "3.10.9"
  }
 },
 "nbformat": 4,
 "nbformat_minor": 5
}
