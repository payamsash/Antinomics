{
 "cells": [
  {
   "cell_type": "markdown",
   "id": "df925a82",
   "metadata": {},
   "source": [
    "Download template MNI-HCP which Tian atlas is defined in from templateflow"
   ]
  },
  {
   "cell_type": "code",
   "execution_count": null,
   "id": "e0e1d2ea",
   "metadata": {},
   "outputs": [],
   "source": [
    "\n",
    "from templateflow import api\n",
    "api.get('MNI152NLin6Asym', resolution=1, suffix='T1w')"
   ]
  },
  {
   "cell_type": "markdown",
   "id": "bcfa3d2b",
   "metadata": {},
   "source": [
    "Plot tian atlas in different scales"
   ]
  },
  {
   "cell_type": "code",
   "execution_count": null,
   "id": "56864e3c",
   "metadata": {},
   "outputs": [],
   "source": [
    "%matplotlib qt\n",
    "import matplotlib.pyplot as plt\n",
    "from subcortex_visualization.plotting import plot_subcortical_data\n",
    "\n",
    "for s in [\"S1\", \"S2\"]:\n",
    "    plot_subcortical_data(atlas=f\"Melbourne_{s}\", hemisphere='both', cmap=\"hsv\")\n",
    "    fig = plt.gcf()\n",
    "    ax = plt.gca()\n",
    "    fig.patch.set_facecolor('black')\n",
    "    ax.set_facecolor('black')         \n",
    "    plt.show()"
   ]
  },
  {
   "cell_type": "markdown",
   "id": "929dca14",
   "metadata": {},
   "source": [
    "Visualizing connectome matrix"
   ]
  },
  {
   "cell_type": "code",
   "execution_count": 1,
   "id": "b9f72488",
   "metadata": {},
   "outputs": [],
   "source": [
    "%matplotlib qt\n",
    "import matplotlib.pyplot as plt\n",
    "from cmap import Colormap\n",
    "from matplotlib.colors import LinearSegmentedColormap\n",
    "from nilearn.plotting import plot_matrix\n",
    "import pandas as pd\n",
    "import numpy as np"
   ]
  },
  {
   "cell_type": "code",
   "execution_count": 27,
   "id": "5a80cc81",
   "metadata": {},
   "outputs": [],
   "source": [
    "df = pd.read_csv(\"/Users/payamsadeghishabestari/temp_folder/dti/asjt/conn/tian_S3_conn.csv\", header=None)\n",
    "cm = Colormap('colorbrewer:OrRd_9')\n",
    "combined_cmap = LinearSegmentedColormap.from_list(\"\", cm(np.linspace(0, 1, 500)), N=1000)\n",
    "\n",
    "labels_fname = \"./data/Tian2020MSA/3T/Subcortex-Only/Tian_Subcortex_S3_3T_label.txt\"\n",
    "labels = np.loadtxt(labels_fname, dtype=str)\n",
    "\n",
    "fig, ax = plt.subplots(figsize=(10, 8))\n",
    "plot_matrix(df, labels=labels, cmap=combined_cmap, axes=ax, colorbar=True, vmax=0.9, vmin=0)\n",
    "\n",
    "for label in ax.get_xticklabels()[:25]:\n",
    "    label.set_color('lightgreen')\n",
    "for label in ax.get_yticklabels()[:25]:\n",
    "    label.set_color('lightgreen')\n",
    "\n",
    "for label in ax.get_xticklabels()[25:]:\n",
    "    label.set_color('lavender')\n",
    "for label in ax.get_yticklabels()[25:]:\n",
    "    label.set_color('lavender')\n",
    "\n",
    "fig.patch.set_facecolor('black')\n",
    "ax.set_facecolor('black')          \n",
    "\n",
    "# Make grid lines white for visibility (optional)\n",
    "for spine in ax.spines.values():\n",
    "    spine.set_color('white')\n",
    "\n",
    "\n",
    "plt.show()"
   ]
  },
  {
   "cell_type": "markdown",
   "id": "13d902b2",
   "metadata": {},
   "source": [
    "Convert dataset into BIDS (anat and func)"
   ]
  },
  {
   "cell_type": "code",
   "execution_count": 5,
   "id": "055da28f",
   "metadata": {},
   "outputs": [],
   "source": [
    "import os\n",
    "import shutil\n",
    "\n",
    "# Paths\n",
    "fMRI_path = \"/Volumes/Extreme_SSD/payam_data/antinomics_data/fMRI\"\n",
    "sMRI_path = \"/Volumes/Extreme_SSD/payam_data/antinomics_data/sMRI_T1\"\n",
    "bids_path = \"/Volumes/Extreme_SSD/payam_data/antinomics_data/BIDS\"\n",
    "\n",
    "# Create BIDS dataset folder if it doesn't exist\n",
    "os.makedirs(bids_path, exist_ok=True)\n",
    "\n",
    "# Create minimal dataset_description.json\n",
    "import json\n",
    "dataset_description = {\n",
    "    \"Name\": \"My fMRI/sMRI Dataset\",\n",
    "    \"BIDSVersion\": \"1.8.0\",\n",
    "    \"DatasetType\": \"raw\"\n",
    "}\n",
    "with open(os.path.join(bids_path, \"dataset_description.json\"), \"w\") as f:\n",
    "    json.dump(dataset_description, f, indent=4)\n",
    "\n",
    "# Helper to zero-pad subject IDs\n",
    "def sub_id(idx):\n",
    "    return f\"sub-{idx:02d}\"\n",
    "\n",
    "# List of subjects based on sMRI filenames\n",
    "subjects = [f.replace(\".nii.gz\", \"\") for f in sorted(os.listdir(sMRI_path)) if f.endswith(\".nii.gz\")]\n",
    "\n",
    "for i, subj_name in enumerate(subjects, start=1):\n",
    "    sub_folder = os.path.join(bids_path, sub_id(i))\n",
    "    \n",
    "    # Create anat folder\n",
    "    anat_folder = os.path.join(sub_folder, \"anat\")\n",
    "    os.makedirs(anat_folder, exist_ok=True)\n",
    "    \n",
    "    # Copy T1 (anat)\n",
    "    t1_src = os.path.join(sMRI_path, f\"{subj_name}.nii.gz\")\n",
    "    t1_dst = os.path.join(anat_folder, f\"{sub_id(i)}_T1w.nii.gz\")\n",
    "    shutil.copy(t1_src, t1_dst)\n",
    "    \n",
    "    # Create func folder\n",
    "    func_folder = os.path.join(sub_folder, \"func\")\n",
    "    os.makedirs(func_folder, exist_ok=True)\n",
    "    \n",
    "    # Copy fMRI scans from all session folders into runs\n",
    "    run_counter = 1\n",
    "    for session_folder in [\"s1\", \"s2\"]:\n",
    "        func_src_folder = os.path.join(fMRI_path, session_folder)\n",
    "        func_files = [f for f in os.listdir(func_src_folder) if f.startswith(subj_name) and f.endswith(\".nii.gz\")]\n",
    "        for func_file in sorted(func_files):\n",
    "            func_src = os.path.join(func_src_folder, func_file)\n",
    "            func_dst = os.path.join(func_folder, f\"{sub_id(i)}_task-rest_run-{run_counter:02d}_bold.nii.gz\")\n",
    "            shutil.copy(func_src, func_dst)\n",
    "            run_counter += 1"
   ]
  }
 ],
 "metadata": {
  "kernelspec": {
   "display_name": "venv (3.10.9)",
   "language": "python",
   "name": "python3"
  },
  "language_info": {
   "codemirror_mode": {
    "name": "ipython",
    "version": 3
   },
   "file_extension": ".py",
   "mimetype": "text/x-python",
   "name": "python",
   "nbconvert_exporter": "python",
   "pygments_lexer": "ipython3",
   "version": "3.10.9"
  }
 },
 "nbformat": 4,
 "nbformat_minor": 5
}
